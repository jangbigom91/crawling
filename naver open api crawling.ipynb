{
 "cells": [
  {
   "cell_type": "markdown",
   "id": "3093fd9c",
   "metadata": {},
   "source": [
    "## 네이버 OPEN API로 크롤링하기"
   ]
  },
  {
   "cell_type": "code",
   "execution_count": 5,
   "id": "3c2ffb23",
   "metadata": {},
   "outputs": [
    {
     "name": "stdout",
     "output_type": "stream",
     "text": [
      "1 삼성전자 <b>갤럭시노트20</b>울트라 5G 256GB SM-N986N (자급제) https://search.shopping.naver.com/gate.nhn?id=23716221490\n",
      "2 삼성전자 <b>갤럭시노트20</b> 5G 256GB SM-N981N (자급제) https://search.shopping.naver.com/gate.nhn?id=23716087490\n",
      "3 삼성 <b>갤럭시 노트20</b> 노트20울트라 자급제 미개통 미사용 2년A/S보증 https://search.shopping.naver.com/gate.nhn?id=24463457981\n",
      "4 삼성전자 <b>갤럭시노트20</b> / <b>갤럭시 노트20</b> 울트라 5G 256GB https://search.shopping.naver.com/gate.nhn?id=82869458901\n",
      "5 삼성전자 <b>갤럭시노트20</b>울트라 5G 256GB SM-N986S (SKT) https://search.shopping.naver.com/gate.nhn?id=23716088492\n",
      "6 삼성전자 <b>갤럭시노트20</b> 공기계 중고 노트20 울트라 자급제 https://search.shopping.naver.com/gate.nhn?id=26887040777\n",
      "7 삼성전자 <b>갤럭시노트20</b>울트라 5G 256GB SM-N986K (KT) https://search.shopping.naver.com/gate.nhn?id=23716007491\n",
      "8 <b>갤럭시 노트20</b>/노트20울트라 자급제 미개통 미사용 삼성공식A/S보증 https://search.shopping.naver.com/gate.nhn?id=26063771369\n",
      "9 삼성전자 <b>갤럭시 노트20</b>울트라 미개통 자급제 2년A/S https://search.shopping.naver.com/gate.nhn?id=26056985595\n",
      "10 삼성 <b>갤럭시 노트20</b> 울트라 미개통 자급제 2년A/S가능 https://search.shopping.naver.com/gate.nhn?id=26337442826\n"
     ]
    }
   ],
   "source": [
    "import requests\n",
    "import pprint\n",
    "\n",
    "client_id = 'ysLjc3UDw9vQwQ0hCOZV'\n",
    "client_secret = 'yRazjRiwDo'\n",
    "\n",
    "naver_open_api = 'https://openapi.naver.com/v1/search/shop.json?query=갤럭시노트20'\n",
    "header_params = {\"X-naver-client-id\":client_id, \"X-naver-client-secret\":client_secret}\n",
    "\n",
    "res = requests.get(naver_open_api, headers=header_params)\n",
    "\n",
    "if res.status_code == 200:\n",
    "    data = res.json()\n",
    "    for index, item in enumerate(data['items']):\n",
    "        print(index + 1, item['title'], item['link'])\n",
    "else:\n",
    "    print(\"Error Code:\", res.status_code)"
   ]
  },
  {
   "cell_type": "code",
   "execution_count": 6,
   "id": "4a82a9c6",
   "metadata": {},
   "outputs": [
    {
     "name": "stdout",
     "output_type": "stream",
     "text": [
      "1 <b>맨유</b>, 팬들 시위에 '부메랑' 맞았다...7일 4경기 '이왜진?' https://sports.news.naver.com/news.nhn?oid=311&aid=0001295563\n",
      "2 첼시, 9년만에 유럽 챔피언 도전…투헬 감독 “참가자 아닌 승자 될 것” https://sports.news.naver.com/news.nhn?oid=469&aid=0000602509\n",
      "3 오언, <b>맨유</b>행 이유...&quot;벤제마의 차선책&quot; https://sports.news.naver.com/news.nhn?oid=311&aid=0001295528\n",
      "4 맨시티와 UCL 결승 앞둔 첼시... 투헬 감독 &quot;승자될 것&quot; http://www.sporbiz.co.kr/news/articleView.html?idxno=522706\n",
      "5 &quot;올드 트래포드 난입 시위, 선 넘었다&quot;...솔샤르도 인정 https://sports.news.naver.com/news.nhn?oid=413&aid=0000118237\n",
      "6 '팬 시위 탓' <b>맨유</b>, 8일 동안 4경기 강행군…솔샤르도 폭력 시위 비판 https://sports.news.naver.com/news.nhn?oid=529&aid=0000055348\n",
      "7 콘테에 즐라탄 그리고 호날두까지, 무리뉴가 만든 세리에A 스토리텔링[칼치오... https://sports.news.naver.com/news.nhn?oid=216&aid=0000113589\n",
      "8 '<b>맨유</b> 에이스' 페르난데스의 채찍, &quot;UEL 우승에 만족하면 안 돼...기준 더 높... https://sports.news.naver.com/news.nhn?oid=450&aid=0000074325\n",
      "9 '행복 축구'하는 포그바, <b>맨유</b>와 재계약하나...&quot;여기서 행복하다&quot; https://sports.news.naver.com/news.nhn?oid=413&aid=0000118234\n",
      "10 호날두 복귀 간만 봤던 <b>맨유</b>, 빠르게 입장 정리 '너무 비싸네' https://sports.news.naver.com/news.nhn?oid=076&aid=0003725569\n"
     ]
    }
   ],
   "source": [
    "import requests\n",
    "import pprint\n",
    "\n",
    "client_id = 'ysLjc3UDw9vQwQ0hCOZV'\n",
    "client_secret = 'yRazjRiwDo'\n",
    "\n",
    "naver_open_api = 'https://openapi.naver.com/v1/search/news.json?query=맨유'\n",
    "header_params = {\"X-naver-client-id\":client_id, \"X-naver-client-secret\":client_secret}\n",
    "\n",
    "res = requests.get(naver_open_api, headers=header_params)\n",
    "\n",
    "if res.status_code == 200:\n",
    "    data = res.json()\n",
    "    for index, item in enumerate(data['items']):\n",
    "        print(index + 1, item['title'], item['link'])\n",
    "else:\n",
    "    print(\"Error Code:\", res.status_code)"
   ]
  },
  {
   "cell_type": "markdown",
   "id": "e179c371",
   "metadata": {},
   "source": [
    "## 네이버 OPEN API로 크롤링하고 엑셀파일저장"
   ]
  },
  {
   "cell_type": "code",
   "execution_count": 12,
   "id": "1fa03360",
   "metadata": {},
   "outputs": [],
   "source": [
    "import requests\n",
    "import openpyxl\n",
    "\n",
    "client_id = 'ysLjc3UDw9vQwQ0hCOZV'\n",
    "client_secret = 'yRazjRiwDo'\n",
    "start, num = 1, 0\n",
    "\n",
    "excel_file = openpyxl.Workbook()\n",
    "excel_sheet = excel_file.active\n",
    "excel_sheet.column_dimensions['B'].width = 100\n",
    "excel_sheet.column_dimensions['C'].width = 100\n",
    "excel_sheet.append(['랭킹', '제목', '링크'])\n",
    "\n",
    "for index in range(10):\n",
    "    start_number = start + (index * 100)\n",
    "    naver_open_api = 'https://openapi.naver.com/v1/search/news.json?query=맨유&display=100&start=' + str(start_number)\n",
    "    header_params = {\"X-naver-client-id\":client_id, \"X-naver-client-secret\":client_secret}\n",
    "    \n",
    "    res = requests.get(naver_open_api, headers=header_params)\n",
    "\n",
    "    if res.status_code == 200:\n",
    "        data = res.json()\n",
    "        for item in data['items']:\n",
    "            num += 1\n",
    "            excel_sheet.append([num, item['title'], item['link']])\n",
    "    else:\n",
    "        print(\"Error Code:\", res.status_code)\n",
    "\n",
    "excel_file.save('MU.xlsx')\n",
    "excel_file.close()"
   ]
  },
  {
   "cell_type": "code",
   "execution_count": 13,
   "id": "ef134ec3",
   "metadata": {},
   "outputs": [],
   "source": [
    "import requests\n",
    "import openpyxl\n",
    "\n",
    "client_id = 'ysLjc3UDw9vQwQ0hCOZV'\n",
    "client_secret = 'yRazjRiwDo'\n",
    "start, num = 1, 0\n",
    "\n",
    "excel_file = openpyxl.Workbook()\n",
    "excel_sheet = excel_file.active\n",
    "excel_sheet.column_dimensions['B'].width = 100\n",
    "excel_sheet.column_dimensions['C'].width = 100\n",
    "excel_sheet.append(['랭킹', '제목', '링크'])\n",
    "\n",
    "for index in range(10):\n",
    "    start_number = start + (index * 100)\n",
    "    naver_open_api = 'https://openapi.naver.com/v1/search/movie.json?query=기생충&display=100&start=' + str(start_number)\n",
    "    header_params = {\"X-naver-client-id\":client_id, \"X-naver-client-secret\":client_secret}\n",
    "    \n",
    "    res = requests.get(naver_open_api, headers=header_params)\n",
    "\n",
    "    if res.status_code == 200:\n",
    "        data = res.json()\n",
    "        for item in data['items']:\n",
    "            num += 1\n",
    "            excel_sheet.append([num, item['title'], item['link']])\n",
    "    else:\n",
    "        print(\"Error Code:\", res.status_code)\n",
    "\n",
    "excel_file.save('PARASITE.xlsx')\n",
    "excel_file.close()"
   ]
  },
  {
   "cell_type": "code",
   "execution_count": null,
   "id": "7730e535",
   "metadata": {},
   "outputs": [],
   "source": []
  }
 ],
 "metadata": {
  "kernelspec": {
   "display_name": "Python 3",
   "language": "python",
   "name": "python3"
  },
  "language_info": {
   "codemirror_mode": {
    "name": "ipython",
    "version": 3
   },
   "file_extension": ".py",
   "mimetype": "text/x-python",
   "name": "python",
   "nbconvert_exporter": "python",
   "pygments_lexer": "ipython3",
   "version": "3.8.9"
  }
 },
 "nbformat": 4,
 "nbformat_minor": 5
}
