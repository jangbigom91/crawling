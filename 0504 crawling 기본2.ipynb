{
 "cells": [
  {
   "cell_type": "markdown",
   "id": "48819f31",
   "metadata": {},
   "source": [
    "## 크롬브라우저 활용하기 크롤링 ctrl + u"
   ]
  },
  {
   "cell_type": "code",
   "execution_count": 1,
   "id": "7bbc2127",
   "metadata": {},
   "outputs": [
    {
     "name": "stdout",
     "output_type": "stream",
     "text": [
      "(왕초보) - 클래스 소개\n",
      "(왕초보) - 블로그 개발 필요한 준비물 준비하기\n",
      "(왕초보) - Github pages 설정해서 블로그 첫 페이지 만들어보기\n",
      "(왕초보) - 초간단 페이지 만들어보기\n",
      "(왕초보) - 이쁘게 테마 적용해보기\n",
      "(왕초보) - 마크다운 기초 이해하고, 실제 나만의 블로그 페이지 만들기\n",
      "(왕초보) - 다양한 마크다운 기법 익혀보며, 나만의 블로그 페이지 꾸며보기\n",
      "(초급) - 강사가 실제 사용하는 자동 프로그램 소개 [2]\n",
      "(초급) - 필요한 프로그램 설치 시연 [5]\n",
      "(초급) - 데이터를 엑셀 파일로 만들기 [9]\n",
      "(초급) -     엑셀 파일 이쁘게! 이쁘게! [8]\n",
      "(초급) -     나대신 주기적으로 파이썬 프로그램 실행하기 [7]\n",
      "(초급) - 파이썬으로 슬랙(slack) 메신저에 글쓰기 [40]\n",
      "(초급) - 웹사이트 변경사항 주기적으로 체크해서, 메신저로 알람주기 [12]\n",
      "(초급) - 네이버 API 사용해서, 블로그에 글쓰기 [42]\n",
      "(중급) - 자동으로 쿠팡파트너스 API 로 가져온 상품 정보, 네이버 블로그/트위터에 홍보하기 [412]\n"
     ]
    }
   ],
   "source": [
    "import requests\n",
    "from bs4 import BeautifulSoup\n",
    "\n",
    "res = requests.get('http://davelee-fun.github.io/blog/crawl_test')\n",
    "soup = BeautifulSoup(res.content, 'html.parser')\n",
    "\n",
    "titles = soup.find_all('li', 'course')\n",
    "for title in titles:\n",
    "    print(title.get_text())"
   ]
  },
  {
   "cell_type": "markdown",
   "id": "58593237",
   "metadata": {},
   "source": [
    "## 추출한 것에서 또 추출하기"
   ]
  },
  {
   "cell_type": "code",
   "execution_count": null,
   "id": "af5f0ee2",
   "metadata": {},
   "outputs": [],
   "source": [
    "import requests\n",
    "from bs4 import BeautifulSoup\n",
    "\n",
    "res = requests.get('http://davelee-fun.github.io/blog/crawl_test')\n",
    "soup = BeautifulSoup(res.content, 'html.parser')\n",
    "\n",
    "section = soup.find('ul', id='hobby_course_list')\n",
    "titles = section.find_all('li', 'course')\n",
    "\n",
    "for title in titles:\n",
    "    print(title.get_text())"
   ]
  },
  {
   "cell_type": "code",
   "execution_count": 3,
   "id": "7a0dd67c",
   "metadata": {},
   "outputs": [
    {
     "name": "stdout",
     "output_type": "stream",
     "text": [
      "(초급) - 강사가 실제 사용하는 자동 프로그램 소개 [2]\n",
      "(초급) - 필요한 프로그램 설치 시연 [5]\n",
      "(초급) - 데이터를 엑셀 파일로 만들기 [9]\n",
      "(초급) -     엑셀 파일 이쁘게! 이쁘게! [8]\n",
      "(초급) -     나대신 주기적으로 파이썬 프로그램 실행하기 [7]\n",
      "(초급) - 파이썬으로 슬랙(slack) 메신저에 글쓰기 [40]\n",
      "(초급) - 웹사이트 변경사항 주기적으로 체크해서, 메신저로 알람주기 [12]\n",
      "(초급) - 네이버 API 사용해서, 블로그에 글쓰기 [42]\n",
      "(중급) - 자동으로 쿠팡파트너스 API 로 가져온 상품 정보, 네이버 블로그/트위터에 홍보하기 [412]\n"
     ]
    }
   ],
   "source": [
    "import requests\n",
    "from bs4 import BeautifulSoup\n",
    "\n",
    "res = requests.get('http://davelee-fun.github.io/blog/crawl_test')\n",
    "soup = BeautifulSoup(res.content, 'html.parser')\n",
    "\n",
    "section = soup.find('ul', id='dev_course_list')\n",
    "titles = section.find_all('li', 'course')\n",
    "\n",
    "for title in titles:\n",
    "    print(title.get_text())"
   ]
  },
  {
   "cell_type": "markdown",
   "id": "07c8f179",
   "metadata": {},
   "source": [
    "## 파이썬 문자열 함수와 함께 쓰기"
   ]
  },
  {
   "cell_type": "markdown",
   "id": "2ecf8bf0",
   "metadata": {},
   "source": [
    "#### strip() 함수 사용 - 문자 공백 지우기\n",
    "#### split() 함수 사용 - 문자열 나누기"
   ]
  },
  {
   "cell_type": "code",
   "execution_count": 4,
   "id": "439dae57",
   "metadata": {},
   "outputs": [
    {
     "name": "stdout",
     "output_type": "stream",
     "text": [
      "1. 강사가 실제 사용하는 자동 프로그램 소개\n",
      "2. 필요한 프로그램 설치 시연\n",
      "3. 데이터를 엑셀 파일로 만들기\n",
      "4. 엑셀 파일 이쁘게! 이쁘게!\n",
      "5. 나대신 주기적으로 파이썬 프로그램 실행하기\n",
      "6. 파이썬으로 슬랙(slack) 메신저에 글쓰기\n",
      "7. 웹사이트 변경사항 주기적으로 체크해서, 메신저로 알람주기\n",
      "8. 네이버 API 사용해서, 블로그에 글쓰기\n",
      "9. 자동으로 쿠팡파트너스 API 로 가져온 상품 정보, 네이버 블로그/트위터에 홍보하기\n"
     ]
    }
   ],
   "source": [
    "# strip() 함수 사용하기\n",
    "# split() 함수 사용하기\n",
    "import requests\n",
    "from bs4 import BeautifulSoup\n",
    "\n",
    "res = requests.get('http://davelee-fun.github.io/blog/crawl_test')\n",
    "soup = BeautifulSoup(res.content, 'html.parser')\n",
    "\n",
    "section = soup.find('ul', id='dev_course_list')\n",
    "titles = section.find_all('li', 'course')\n",
    "\n",
    "for index, title in enumerate(titles):\n",
    "    print(str(index + 1) + '.', title.get_text().split('-')[1].split('[')[0].strip())"
   ]
  },
  {
   "cell_type": "markdown",
   "id": "66d4cfdd",
   "metadata": {},
   "source": [
    "## 예제 1(태그 선택)"
   ]
  },
  {
   "cell_type": "code",
   "execution_count": 10,
   "id": "b16c26ad",
   "metadata": {},
   "outputs": [
    {
     "name": "stdout",
     "output_type": "stream",
     "text": [
      "(왕초보) - 클래스 소개\n",
      "(왕초보) - 블로그 개발 필요한 준비물 준비하기\n",
      "(왕초보) - Github pages 설정해서 블로그 첫 페이지 만들어보기\n",
      "(왕초보) - 초간단 페이지 만들어보기\n",
      "(왕초보) - 이쁘게 테마 적용해보기\n",
      "(왕초보) - 마크다운 기초 이해하고, 실제 나만의 블로그 페이지 만들기\n",
      "(왕초보) - 다양한 마크다운 기법 익혀보며, 나만의 블로그 페이지 꾸며보기\n",
      "(초급) - 강사가 실제 사용하는 자동 프로그램 소개 [2]\n",
      "(초급) - 필요한 프로그램 설치 시연 [5]\n",
      "(초급) - 데이터를 엑셀 파일로 만들기 [9]\n",
      "(초급) -     엑셀 파일 이쁘게! 이쁘게! [8]\n",
      "(초급) -     나대신 주기적으로 파이썬 프로그램 실행하기 [7]\n",
      "(초급) - 파이썬으로 슬랙(slack) 메신저에 글쓰기 [40]\n",
      "(초급) - 웹사이트 변경사항 주기적으로 체크해서, 메신저로 알람주기 [12]\n",
      "(초급) - 네이버 API 사용해서, 블로그에 글쓰기 [42]\n",
      "(중급) - 자동으로 쿠팡파트너스 API 로 가져온 상품 정보, 네이버 블로그/트위터에 홍보하기 [412]\n"
     ]
    }
   ],
   "source": [
    "import requests\n",
    "from bs4 import BeautifulSoup\n",
    "\n",
    "res = requests.get('http://davelee-fun.github.io/blog/crawl_test_css.html')\n",
    "soup = BeautifulSoup(res.content, 'html.parser')\n",
    "\n",
    "items = soup.select('li')\n",
    "\n",
    "for item in items:\n",
    "    print(item.get_text())"
   ]
  },
  {
   "cell_type": "markdown",
   "id": "66393ec7",
   "metadata": {},
   "source": [
    "## 예제 2-1(하위 태그 선택)"
   ]
  },
  {
   "cell_type": "code",
   "execution_count": 11,
   "id": "1a3475dd",
   "metadata": {},
   "outputs": [
    {
     "name": "stdout",
     "output_type": "stream",
     "text": [
      "잔재미코딩 크롤링 테스트 페이지 (커리큘럼)\n"
     ]
    }
   ],
   "source": [
    "import requests\n",
    "from bs4 import BeautifulSoup\n",
    "\n",
    "res = requests.get('http://davelee-fun.github.io/blog/crawl_test_css.html')\n",
    "soup = BeautifulSoup(res.content, 'html.parser')\n",
    "\n",
    "items = soup.select('html body h1')\n",
    "\n",
    "for item in items:\n",
    "    print(item.get_text())"
   ]
  },
  {
   "cell_type": "markdown",
   "id": "1e148e79",
   "metadata": {},
   "source": [
    "## 예제 2-2(하위 태그 선택)"
   ]
  },
  {
   "cell_type": "code",
   "execution_count": 12,
   "id": "35f7a95c",
   "metadata": {},
   "outputs": [
    {
     "name": "stdout",
     "output_type": "stream",
     "text": [
      "(왕초보) - 클래스 소개\n",
      "(왕초보) - 블로그 개발 필요한 준비물 준비하기\n",
      "(왕초보) - Github pages 설정해서 블로그 첫 페이지 만들어보기\n",
      "(왕초보) - 초간단 페이지 만들어보기\n",
      "(왕초보) - 이쁘게 테마 적용해보기\n",
      "(왕초보) - 마크다운 기초 이해하고, 실제 나만의 블로그 페이지 만들기\n",
      "(왕초보) - 다양한 마크다운 기법 익혀보며, 나만의 블로그 페이지 꾸며보기\n",
      "(초급) - 강사가 실제 사용하는 자동 프로그램 소개 [2]\n",
      "(초급) - 필요한 프로그램 설치 시연 [5]\n",
      "(초급) - 데이터를 엑셀 파일로 만들기 [9]\n",
      "(초급) -     엑셀 파일 이쁘게! 이쁘게! [8]\n",
      "(초급) -     나대신 주기적으로 파이썬 프로그램 실행하기 [7]\n",
      "(초급) - 파이썬으로 슬랙(slack) 메신저에 글쓰기 [40]\n",
      "(초급) - 웹사이트 변경사항 주기적으로 체크해서, 메신저로 알람주기 [12]\n",
      "(초급) - 네이버 API 사용해서, 블로그에 글쓰기 [42]\n",
      "(중급) - 자동으로 쿠팡파트너스 API 로 가져온 상품 정보, 네이버 블로그/트위터에 홍보하기 [412]\n"
     ]
    }
   ],
   "source": [
    "import requests\n",
    "from bs4 import BeautifulSoup\n",
    "\n",
    "res = requests.get('http://davelee-fun.github.io/blog/crawl_test_css.html')\n",
    "soup = BeautifulSoup(res.content, 'html.parser')\n",
    "\n",
    "items = soup.select('ul > li')\n",
    "\n",
    "for item in items:\n",
    "    print(item.get_text())"
   ]
  },
  {
   "cell_type": "markdown",
   "id": "20e85f07",
   "metadata": {},
   "source": [
    "## 예제 2-3(css class 이름으로 검색)"
   ]
  },
  {
   "cell_type": "code",
   "execution_count": 13,
   "id": "a077a31d",
   "metadata": {},
   "outputs": [
    {
     "name": "stdout",
     "output_type": "stream",
     "text": [
      "(왕초보) - 클래스 소개\n",
      "(왕초보) - 블로그 개발 필요한 준비물 준비하기\n",
      "(왕초보) - Github pages 설정해서 블로그 첫 페이지 만들어보기\n",
      "(왕초보) - 초간단 페이지 만들어보기\n",
      "(왕초보) - 이쁘게 테마 적용해보기\n",
      "(왕초보) - 마크다운 기초 이해하고, 실제 나만의 블로그 페이지 만들기\n",
      "(왕초보) - 다양한 마크다운 기법 익혀보며, 나만의 블로그 페이지 꾸며보기\n",
      "(초급) - 강사가 실제 사용하는 자동 프로그램 소개 [2]\n",
      "(초급) - 필요한 프로그램 설치 시연 [5]\n",
      "(초급) - 데이터를 엑셀 파일로 만들기 [9]\n",
      "(초급) -     엑셀 파일 이쁘게! 이쁘게! [8]\n",
      "(초급) -     나대신 주기적으로 파이썬 프로그램 실행하기 [7]\n",
      "(초급) - 파이썬으로 슬랙(slack) 메신저에 글쓰기 [40]\n",
      "(초급) - 웹사이트 변경사항 주기적으로 체크해서, 메신저로 알람주기 [12]\n",
      "(초급) - 네이버 API 사용해서, 블로그에 글쓰기 [42]\n",
      "(중급) - 자동으로 쿠팡파트너스 API 로 가져온 상품 정보, 네이버 블로그/트위터에 홍보하기 [412]\n"
     ]
    }
   ],
   "source": [
    "import requests\n",
    "from bs4 import BeautifulSoup\n",
    "\n",
    "res = requests.get('http://davelee-fun.github.io/blog/crawl_test_css.html')\n",
    "soup = BeautifulSoup(res.content, 'html.parser')\n",
    "\n",
    "items = soup.select('.course')\n",
    "\n",
    "for item in items:\n",
    "    print(item.get_text())"
   ]
  },
  {
   "cell_type": "markdown",
   "id": "748c2545",
   "metadata": {},
   "source": [
    "## 예제 2-4(id 이름으로 검색)"
   ]
  },
  {
   "cell_type": "code",
   "execution_count": 14,
   "id": "d59367f3",
   "metadata": {},
   "outputs": [
    {
     "name": "stdout",
     "output_type": "stream",
     "text": [
      "(왕초보) - 클래스 소개\n",
      "(왕초보) - 블로그 개발 필요한 준비물 준비하기\n",
      "(왕초보) - Github pages 설정해서 블로그 첫 페이지 만들어보기\n",
      "(왕초보) - 초간단 페이지 만들어보기\n",
      "(왕초보) - 이쁘게 테마 적용해보기\n",
      "(왕초보) - 마크다운 기초 이해하고, 실제 나만의 블로그 페이지 만들기\n",
      "(왕초보) - 다양한 마크다운 기법 익혀보며, 나만의 블로그 페이지 꾸며보기\n"
     ]
    }
   ],
   "source": [
    "import requests\n",
    "from bs4 import BeautifulSoup\n",
    "\n",
    "res = requests.get('http://davelee-fun.github.io/blog/crawl_test_css.html')\n",
    "soup = BeautifulSoup(res.content, 'html.parser')\n",
    "\n",
    "items = soup.select('#start')\n",
    "\n",
    "for item in items:\n",
    "    print(item.get_text())"
   ]
  },
  {
   "cell_type": "markdown",
   "id": "4adadbd0",
   "metadata": {},
   "source": [
    "## 예제 2-5(태그.클래스이름1.클래스이름2. ...으로 검색)"
   ]
  },
  {
   "cell_type": "code",
   "execution_count": 15,
   "id": "352bb5de",
   "metadata": {},
   "outputs": [
    {
     "name": "stdout",
     "output_type": "stream",
     "text": [
      "(중급) - 자동으로 쿠팡파트너스 API 로 가져온 상품 정보, 네이버 블로그/트위터에 홍보하기 [412]\n"
     ]
    }
   ],
   "source": [
    "import requests\n",
    "from bs4 import BeautifulSoup\n",
    "\n",
    "res = requests.get('http://davelee-fun.github.io/blog/crawl_test_css.html')\n",
    "soup = BeautifulSoup(res.content, 'html.parser')\n",
    "\n",
    "items = soup.select('li.course.paid')\n",
    "\n",
    "for item in items:\n",
    "    print(item.get_text())"
   ]
  },
  {
   "cell_type": "markdown",
   "id": "683264f0",
   "metadata": {},
   "source": [
    "## 예제 2-6(복합예제)"
   ]
  },
  {
   "cell_type": "code",
   "execution_count": 16,
   "id": "b003d1b7",
   "metadata": {},
   "outputs": [
    {
     "name": "stdout",
     "output_type": "stream",
     "text": [
      "(왕초보) - 클래스 소개\n",
      "(왕초보) - 블로그 개발 필요한 준비물 준비하기\n",
      "(왕초보) - Github pages 설정해서 블로그 첫 페이지 만들어보기\n",
      "(왕초보) - 초간단 페이지 만들어보기\n",
      "(왕초보) - 이쁘게 테마 적용해보기\n",
      "(왕초보) - 마크다운 기초 이해하고, 실제 나만의 블로그 페이지 만들기\n",
      "(왕초보) - 다양한 마크다운 기법 익혀보며, 나만의 블로그 페이지 꾸며보기\n"
     ]
    }
   ],
   "source": [
    "import requests\n",
    "from bs4 import BeautifulSoup\n",
    "\n",
    "res = requests.get('http://davelee-fun.github.io/blog/crawl_test_css.html')\n",
    "soup = BeautifulSoup(res.content, 'html.parser')\n",
    "\n",
    "items = soup.select('ul#hobby_course_list li.course')\n",
    "\n",
    "for item in items:\n",
    "    print(item.get_text())"
   ]
  },
  {
   "cell_type": "markdown",
   "id": "e090295c",
   "metadata": {},
   "source": [
    "## 예제 2-7(select_one)"
   ]
  },
  {
   "cell_type": "code",
   "execution_count": 17,
   "id": "3383e7ce",
   "metadata": {},
   "outputs": [
    {
     "name": "stdout",
     "output_type": "stream",
     "text": [
      "(중급) - 자동으로 쿠팡파트너스 API 로 가져온 상품 정보, 네이버 블로그/트위터에 홍보하기 [412]\n"
     ]
    }
   ],
   "source": [
    "import requests\n",
    "from bs4 import BeautifulSoup\n",
    "\n",
    "res = requests.get('http://davelee-fun.github.io/blog/crawl_test_css.html')\n",
    "soup = BeautifulSoup(res.content, 'html.parser')\n",
    "\n",
    "items = soup.select_one('ul#dev_course_list > li.course.paid')\n",
    "\n",
    "for item in items:\n",
    "    print(item.get_text())"
   ]
  },
  {
   "cell_type": "markdown",
   "id": "0c4eefa4",
   "metadata": {},
   "source": [
    "## 네이버 해외축구 기사"
   ]
  },
  {
   "cell_type": "code",
   "execution_count": 8,
   "id": "6aff1ae4",
   "metadata": {},
   "outputs": [
    {
     "name": "stdout",
     "output_type": "stream",
     "text": [
      "호날두, 친정팀 스포르팅서 커리어 마친다\n"
     ]
    }
   ],
   "source": [
    "import requests\n",
    "from bs4 import BeautifulSoup\n",
    "\n",
    "res = requests.get('https://sports.news.naver.com/news.nhn?oid=241&aid=0003113737')\n",
    "soup = BeautifulSoup(res.content, 'html.parser')\n",
    "\n",
    "title = soup.find('title')\n",
    "\n",
    "print(title.get_text())"
   ]
  },
  {
   "cell_type": "code",
   "execution_count": 19,
   "id": "a6829971",
   "metadata": {},
   "outputs": [
    {
     "name": "stdout",
     "output_type": "stream",
     "text": [
      "\n",
      "호날두, 친정팀 스포르팅서 커리어 마친다\n",
      "\"머리만 바뀐 게 아니야\"...알리 '변화'에 칭찬한 다이어\n",
      "손흥민 ‘10-10’ 소식에... “우린 케인-SON 전성기 낭비 중이야”\n",
      "‘해트트릭’ 베일, 빅5 리그 최고의 임대 선수 6위… 1위는 괴력의 모라타\n",
      "데 브라이너도, B.페르난데스도 아닌 PL 최고는 칸셀루\n",
      "이강인, 무조건 떠나라... 문제는 감독이 아니라 발렌시아다\n",
      "‘찐우정’ 손흥민, “에릭센 많이 그립다, 한국 국대로 같이 뛰고 싶었는데”\n",
      "손흥민, 내친김에 리그 20호골 도전? 상대팀들 살펴보니...\n",
      "토트넘과 레알은 합의...'임대 연장' 베일 결정만 남았다\n",
      "반 페르시, 코치로 아들 직접 가르친다\n",
      "\n",
      "\n",
      "[오피셜] 수원, 백승호 측과 원만한 합의…합의금 전액 유소년 지원\n",
      "'착한이' 박한이 코치, 퓨처스팀 식구위해 통크게 쐈다 [오!쎈 경산]\n",
      "호날두, 친정팀 스포르팅서 커리어 마친다\n",
      "\"머리만 바뀐 게 아니야\"...알리 '변화'에 칭찬한 다이어\n",
      "'공·수 활약' 김하성, 실점 막는 호수비에 안타까지…팀은 2-0 승리\n",
      "양석환, 이대로 LG 금지어 되나. 함덕주 역할 중요\n",
      "'MVP 출신' 레오, 6년 만에 복귀…러셀은 삼성화재 行(종합)\n",
      "손흥민 ‘10-10’ 소식에... “우린 케인-SON 전성기 낭비 중이야”\n",
      "허문회 감독의 위험한 고집, 실패한 길을 다시 걷는다\n",
      "‘보장 2억+옵션 3억’ 굴욕 계약 FA, 12경기 ERA ‘0’ 행진…이 악물었다\n",
      "\n"
     ]
    }
   ],
   "source": [
    "import requests\n",
    "from bs4 import BeautifulSoup\n",
    "\n",
    "res = requests.get('https://sports.news.naver.com/news.nhn?oid=241&aid=0003113737')\n",
    "soup = BeautifulSoup(res.content, 'html.parser')\n",
    "\n",
    "news = soup.find(id='_ranking_news_list_0')\n",
    "news_1 = soup.find(id='_ranking_news_list_1')\n",
    "\n",
    "print(news.get_text())\n",
    "print(news_1.get_text())"
   ]
  },
  {
   "cell_type": "code",
   "execution_count": 35,
   "id": "ec78445e",
   "metadata": {},
   "outputs": [
    {
     "name": "stdout",
     "output_type": "stream",
     "text": [
      "카카오스러움\n"
     ]
    }
   ],
   "source": [
    "import requests\n",
    "from bs4 import BeautifulSoup\n",
    "\n",
    "res = requests.get('https://www.kakaocorp.com/kakao/introduce/kakaoCulture')\n",
    "soup = BeautifulSoup(res.content, 'html.parser')\n",
    "\n",
    "# title = soup.find('div', {'class':'content-wrap'}).get_text()\n",
    "title = soup.find('h4').get_text()\n",
    "# print(title.get_text())\n",
    "print(title)"
   ]
  },
  {
   "cell_type": "code",
   "execution_count": 36,
   "id": "f2f87583",
   "metadata": {},
   "outputs": [
    {
     "name": "stdout",
     "output_type": "stream",
     "text": [
      "\n",
      "카카오스러움\n",
      "\n",
      "                            카카오스럽나요? 카카오 크루는 종종 이렇게 묻곤 합니다. 우리의 관점, 행동하는 방법, 지향하는 목표까지 카카오스러움은 이미 우리 안에 스며들어 있습니다. 우리가 더 나은 세상을 만들기 위해 고민하면서 자연스럽게 체득한 태도이자 본질이기 때문입니다. 앞으로도 우리는 카카오스러움에서 고민을 시작하고, 답을 찾을 것입니다.\n",
      "\n",
      "\n",
      "\n",
      "가보지 않은 길을 두려워 하지 않습니다.\n",
      "Willing to Venture\n",
      "\n",
      "                                        “가보지 않은 길은 위험하잖아?” 배는 정박해 있을 때 가장 안전하지만그것은 배의 존재 이유가 아닙니다.가보지 않은 길은 실패의 위험이 따르지만우리는 개선보다 혁신의 길을 가는 사람들입니다.문제 자체를 다시 정의하고새로운 해답을 찾는 것에 집중합니다.도전이 두렵기만 하다면 카카오를 떠날 때입니다.\n",
      "\n",
      "#개선아닌혁신\n",
      "#도전은거침없이\n",
      "\n",
      "\n",
      "\n",
      "\n",
      "\n",
      "\n",
      "\n",
      "무엇이든 본질만 남기고 처음부터 다시 생각해 봅니다.\n",
      "Back to Basic\n",
      "\n",
      "                                        “원래 그게 당연한 거 아냐?” 불편하고 복잡한 게 당연할 리 없습니다.그래서 우리는 본질에서 출발합니다.시작부터 다르게 질문합니다.끊임없이 ‘왜?’라는 물음을 던집니다.그렇게 익숙한 것을 새롭게, 가치 있게 만듭니다.\n",
      "\n",
      "#본질에서출발\n",
      "#생각에당연함없이\n",
      "\n",
      "\n",
      "\n",
      "\n",
      "\n",
      "나보다 동료의 생각이 더 옳을 수 있다는 믿음을 가집니다.\n",
      "Trust to Trust\n",
      "\n",
      "                                        “내가 항상 정답일까?”개인의 완벽함에 기대기 보다 동료와 함께 완성해 나갑니다.격렬한 토론과 논쟁 속에서도 서로에 대한 신뢰가 있다면반드시 더 나은 답을 찾을 수 있습니다.신뢰를 받기 위해서 상대방을 먼저 존중하세요.혼자 가면 빨리 갈 수 있지만, 함께 가면 멀리 갈 수 있습니다.\n",
      "\n",
      "#신뢰충돌헌신\n",
      "#존중은편견없이\n",
      "\n",
      "\n",
      "\n",
      "\n",
      "\n",
      "\n",
      "\n",
      "\n",
      "\n",
      "스스로 몰입하고 주도적으로 일합니다.\n",
      "Act for Yourself\n",
      "\n",
      "                                        “왜 이 일을 할까?”카카오 크루라면 가장 먼저 해야 하는 질문입니다.우리는 일의 원동력을 스스로 만들어냅니다.내가 시켜서 하는 나의 일인거죠.일에 끌려다니지 않고 끌고 가기 위해서언제나 내가 먼저 생각하고, 질문하고, 움직입니다\n",
      "\n",
      "#내가시킨내일\n",
      "#할일은스스럼없이\n",
      "\n",
      "\n",
      "\n",
      "\n",
      "\n",
      "세상을 선하게 바꾸려고 노력합니다.\n",
      "Tech for Good\n",
      "\n",
      "                                        “너무 거창한 이야기 아냐?”사회를 지속적으로 변화시킬 수 있는 가장 효율적인조직은 기업입니다. 기업은 건강한 생태계를 만들어야하는책임이 있습니다. 카카오 또한 사회에 의미있는 변화를만들기 위해 최선을 다합니다. 서비스 하나에도그런 생각과 노력들이 담겨있습니다.그렇게 우리는 오늘보다 더 나은 세상을 만듭니다.\n",
      "\n",
      "#사회적인책임\n",
      "#놀라움은끊임없이\n",
      "\n",
      "\n",
      "\n",
      "\n",
      "\n",
      "\n"
     ]
    }
   ],
   "source": [
    "import requests\n",
    "from bs4 import BeautifulSoup\n",
    "\n",
    "res = requests.get('https://www.kakaocorp.com/kakao/introduce/kakaoCulture')\n",
    "soup = BeautifulSoup(res.content, 'html.parser')\n",
    "\n",
    "title = soup.find('div', {'class':'content-wrap'})\n",
    "\n",
    "print(title.get_text())"
   ]
  },
  {
   "cell_type": "code",
   "execution_count": 38,
   "id": "f2263bb4",
   "metadata": {},
   "outputs": [
    {
     "name": "stdout",
     "output_type": "stream",
     "text": [
      "kakao 메인 메뉴\n"
     ]
    }
   ],
   "source": [
    "import requests\n",
    "from bs4 import BeautifulSoup\n",
    "\n",
    "res = requests.get('https://www.kakaocorp.com/kakao/introduce/kakaoCulture')\n",
    "soup = BeautifulSoup(res.content, 'html.parser')\n",
    "\n",
    "bd = soup.find('h2', {'class':'screen_out'}).get_text()\n",
    "\n",
    "print(bd)"
   ]
  },
  {
   "cell_type": "code",
   "execution_count": null,
   "id": "4528abaa",
   "metadata": {},
   "outputs": [],
   "source": []
  }
 ],
 "metadata": {
  "kernelspec": {
   "display_name": "Python 3",
   "language": "python",
   "name": "python3"
  },
  "language_info": {
   "codemirror_mode": {
    "name": "ipython",
    "version": 3
   },
   "file_extension": ".py",
   "mimetype": "text/x-python",
   "name": "python",
   "nbconvert_exporter": "python",
   "pygments_lexer": "ipython3",
   "version": "3.8.9"
  }
 },
 "nbformat": 4,
 "nbformat_minor": 5
}
