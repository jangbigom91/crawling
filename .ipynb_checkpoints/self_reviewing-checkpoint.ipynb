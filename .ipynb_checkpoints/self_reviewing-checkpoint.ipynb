{
 "cells": [
  {
   "cell_type": "markdown",
   "id": "7ae54772",
   "metadata": {},
   "source": [
    "## 크롤링과 프로그래밍 정규 표현식"
   ]
  },
  {
   "cell_type": "code",
   "execution_count": 1,
   "id": "fc0986df",
   "metadata": {},
   "outputs": [
    {
     "name": "stdout",
     "output_type": "stream",
     "text": [
      "(초급) - 강사가 실제 사용하는 자동 프로그램 소개 [2]\n",
      "(초급) - 필요한 프로그램 설치 시연 [5]\n",
      "(초급) - 데이터를 엑셀 파일로 만들기 [9]\n",
      "(초급) -     엑셀 파일 이쁘게! 이쁘게! [8]\n",
      "(초급) -     나대신 주기적으로 파이썬 프로그램 실행하기 [7]\n",
      "(초급) - 파이썬으로 슬랙(slack) 메신저에 글쓰기 [40]\n",
      "(초급) - 웹사이트 변경사항 주기적으로 체크해서, 메신저로 알람주기 [12]\n",
      "(초급) - 네이버 API 사용해서, 블로그에 글쓰기 [42]\n",
      "(중급) - 자동으로 쿠팡파트너스 API 로 가져온 상품 정보, 네이버 블로그/트위터에 홍보하기 [412]\n"
     ]
    }
   ],
   "source": [
    "from urllib.request import urlopen\n",
    "from bs4 import BeautifulSoup\n",
    "import re\n",
    "\n",
    "res = urlopen('https://davelee-fun.github.io/blog/crawl_test_css.html')\n",
    "soup = BeautifulSoup(res, \"html.parser\")\n",
    "\n",
    "data = soup.select('ul#dev_course_list li.course')\n",
    "for item in data:\n",
    "    print(item.get_text())"
   ]
  },
  {
   "cell_type": "markdown",
   "id": "3f824e10",
   "metadata": {},
   "source": [
    "#### 왜 정규표현식이 필요할까?"
   ]
  },
  {
   "cell_type": "markdown",
   "id": "adeb56a6",
   "metadata": {},
   "source": [
    "### 정규표현식 사용"
   ]
  },
  {
   "cell_type": "code",
   "execution_count": 2,
   "id": "81fc40bd",
   "metadata": {},
   "outputs": [
    {
     "name": "stdout",
     "output_type": "stream",
     "text": [
      "(초급) - 강사가 실제 사용하는 자동 프로그램 소개 \n",
      "(초급) - 필요한 프로그램 설치 시연 \n",
      "(초급) - 데이터를 엑셀 파일로 만들기 \n",
      "(초급) -     엑셀 파일 이쁘게! 이쁘게! \n",
      "(초급) -     나대신 주기적으로 파이썬 프로그램 실행하기 \n",
      "(초급) - 파이썬으로 슬랙(slack) 메신저에 글쓰기 \n",
      "(초급) - 웹사이트 변경사항 주기적으로 체크해서, 메신저로 알람주기 \n",
      "(초급) - 네이버 API 사용해서, 블로그에 글쓰기 \n",
      "(중급) - 자동으로 쿠팡파트너스 API 로 가져온 상품 정보, 네이버 블로그/트위터에 홍보하기 \n"
     ]
    }
   ],
   "source": [
    "from urllib.request import urlopen\n",
    "from bs4 import BeautifulSoup\n",
    "import re\n",
    "\n",
    "res = urlopen('https://davelee-fun.github.io/blog/crawl_test_css.html')\n",
    "soup = BeautifulSoup(res, \"html.parser\")\n",
    "\n",
    "data = soup.select('ul#dev_course_list li.course')\n",
    "for item in data:\n",
    "    print(re.sub('\\[[0-9]+\\]', '', item.get_text()))"
   ]
  },
  {
   "cell_type": "code",
   "execution_count": null,
   "id": "6aad255c",
   "metadata": {},
   "outputs": [],
   "source": []
  }
 ],
 "metadata": {
  "kernelspec": {
   "display_name": "Python 3",
   "language": "python",
   "name": "python3"
  },
  "language_info": {
   "codemirror_mode": {
    "name": "ipython",
    "version": 3
   },
   "file_extension": ".py",
   "mimetype": "text/x-python",
   "name": "python",
   "nbconvert_exporter": "python",
   "pygments_lexer": "ipython3",
   "version": "3.8.9"
  }
 },
 "nbformat": 4,
 "nbformat_minor": 5
}
